{
 "cells": [
  {
   "cell_type": "markdown",
   "metadata": {},
   "source": [
    "# 16811A0557"
   ]
  },
  {
   "cell_type": "markdown",
   "metadata": {},
   "source": [
    "#Question 1:\n",
    "Mobile Number Validation:\n",
    "You have been given mobile numbers separated by “,” you need to valid those mobile numbers\n",
    "If valid print True otherwise False\n",
    "Rules:\n",
    "Mobile number should have 10 digits\n",
    "Mobile number should not contain any characters\n",
    "Mobile number should start with (9,8,7,6) series only\n",
    "\n",
    "Sample Input:\n",
    "9885587654,5647839439,982838281,6799867354,93o9289234\n",
    "Sample Output:\n",
    "True\n",
    "False\n",
    "False\n",
    "True\n",
    "False\n",
    "\n"
   ]
  },
  {
   "cell_type": "code",
   "execution_count": 4,
   "metadata": {},
   "outputs": [
    {
     "name": "stdout",
     "output_type": "stream",
     "text": [
      "9885587654,5647839439,982838281,6799867354,93o9289234\n",
      "True\n",
      "False\n",
      "False\n",
      "True\n",
      "False\n"
     ]
    }
   ],
   "source": [
    "import re\n",
    "def nums(i):\n",
    "    if re.search('^[6-9]\\d{9}',i):\n",
    "        print('True')\n",
    "    else:\n",
    "        print('False')\n",
    "def main():\n",
    "    i_list=input().split(',')\n",
    "    for i in i_list:\n",
    "        nums(i)\n",
    "main()"
   ]
  },
  {
   "cell_type": "markdown",
   "metadata": {},
   "source": [
    "Question 2:\n",
    "Goki wants to have some more friends in his life. Goki has N people who he can be friends with, so he decides to choose among them according to their skills set Yi(1<=i<=n). He wants atleast X skills in his friends.\n",
    "\n",
    "Input Format:\n",
    "First line of the input contains an integer N denoting the number of people.\n",
    "Next line contains a single integer X - denoting the minimum skill required to be Goki's friend.\n",
    "Next n lines contain one integer Y - denoting the skill of ith person.\n",
    "\n",
    "Sample Input:\n",
    "5\n",
    "100\n",
    "110\n",
    "130\n",
    "90\n",
    "100\n",
    "45\n",
    "Sample Output:\n",
    "YES\n",
    "YES\n",
    "NO\n",
    "YES\n",
    "NO\n"
   ]
  },
  {
   "cell_type": "code",
   "execution_count": 3,
   "metadata": {},
   "outputs": [
    {
     "name": "stdout",
     "output_type": "stream",
     "text": [
      "5\n",
      "110\n",
      "130\n",
      "90\n",
      "100\n",
      "45\n",
      "YES\n",
      "YES\n",
      "NO\n",
      "YES\n",
      "NO\n"
     ]
    }
   ],
   "source": [
    "def main():\n",
    "    r=int(input())\n",
    "    a=[]\n",
    "    for i in range(r):\n",
    "        n=int(input())\n",
    "        a.append(n)\n",
    "    for j in a:\n",
    "        if j>=100:\n",
    "            print('YES')\n",
    "        \n",
    "        else:\n",
    "            print('NO')\n",
    "main()"
   ]
  },
  {
   "cell_type": "code",
   "execution_count": null,
   "metadata": {},
   "outputs": [],
   "source": []
  }
 ],
 "metadata": {
  "kernelspec": {
   "display_name": "Python 3",
   "language": "python",
   "name": "python3"
  },
  "language_info": {
   "codemirror_mode": {
    "name": "ipython",
    "version": 3
   },
   "file_extension": ".py",
   "mimetype": "text/x-python",
   "name": "python",
   "nbconvert_exporter": "python",
   "pygments_lexer": "ipython3",
   "version": "3.7.3"
  }
 },
 "nbformat": 4,
 "nbformat_minor": 2
}
