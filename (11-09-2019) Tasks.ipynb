{
 "cells": [
  {
   "cell_type": "markdown",
   "metadata": {},
   "source": [
    "# Tasks"
   ]
  },
  {
   "cell_type": "markdown",
   "metadata": {},
   "source": [
    "\n",
    "Question-1:\n",
    "Prime Number: need to print the series of all prime numbers till N."
   ]
  },
  {
   "cell_type": "code",
   "execution_count": 39,
   "metadata": {},
   "outputs": [
    {
     "name": "stdout",
     "output_type": "stream",
     "text": [
      "enter a number:10\n",
      "2\n",
      "3\n",
      "5\n",
      "7\n"
     ]
    }
   ],
   "source": [
    "# series of primes\n",
    "n=int(input('enter a number:'))\n",
    "for num in range(2,n+1):\n",
    "    count=0\n",
    "    for i in range(2,num):\n",
    "        if (num%i)==0:\n",
    "            count+=1\n",
    "    if(count<=0):\n",
    "            print(num)"
   ]
  },
  {
   "cell_type": "markdown",
   "metadata": {},
   "source": [
    "Question-2:\n",
    "Count Divisors: You have been given 3 integers - l, r and k. Find how many numbers between l and r (both inclusive) are divisible by k."
   ]
  },
  {
   "cell_type": "code",
   "execution_count": 1,
   "metadata": {},
   "outputs": [
    {
     "name": "stdout",
     "output_type": "stream",
     "text": [
      "enter 1st number:1\n",
      "enter 2nd number10\n",
      "enter divisible number1\n",
      "10\n"
     ]
    }
   ],
   "source": [
    "i=int(input('enter 1st number:'))\n",
    "r=int(input(\"enter 2nd number\"))\n",
    "k=int(input('enter divisible number'))\n",
    "count=0\n",
    "for i in range(i,r+1):\n",
    "    if (i%k)==0:\n",
    "        count+=1\n",
    "print(count)\n",
    "    \n"
   ]
  },
  {
   "cell_type": "markdown",
   "metadata": {},
   "source": [
    "Question-3:\n",
    "Word Frequency: need to print words with frequency from given sentence (string) in dictionary format\n",
    "Input Format:"
   ]
  },
  {
   "cell_type": "code",
   "execution_count": 3,
   "metadata": {},
   "outputs": [
    {
     "data": {
      "text/plain": [
       "{'ravi': 2, 'ramu': 1, 'balu': 1, 'raghu': 1}"
      ]
     },
     "execution_count": 3,
     "metadata": {},
     "output_type": "execute_result"
    }
   ],
   "source": [
    "s=['ravi','ramu','balu','ravi','raghu']\n",
    "d={}\n",
    "for char in s:\n",
    "    d[char]=d.get(char,0)+1\n",
    "d"
   ]
  },
  {
   "cell_type": "code",
   "execution_count": null,
   "metadata": {},
   "outputs": [],
   "source": []
  }
 ],
 "metadata": {
  "kernelspec": {
   "display_name": "Python 3",
   "language": "python",
   "name": "python3"
  },
  "language_info": {
   "codemirror_mode": {
    "name": "ipython",
    "version": 3
   },
   "file_extension": ".py",
   "mimetype": "text/x-python",
   "name": "python",
   "nbconvert_exporter": "python",
   "pygments_lexer": "ipython3",
   "version": "3.7.3"
  }
 },
 "nbformat": 4,
 "nbformat_minor": 2
}
