{
 "cells": [
  {
   "cell_type": "markdown",
   "metadata": {},
   "source": [
    "## tasks"
   ]
  },
  {
   "cell_type": "markdown",
   "metadata": {},
   "source": [
    "Question-1: Write a Python Program to largest of three given numbers (using input statement)"
   ]
  },
  {
   "cell_type": "code",
   "execution_count": 7,
   "metadata": {},
   "outputs": [
    {
     "name": "stdout",
     "output_type": "stream",
     "text": [
      "enter a value:31\n",
      "enter b value:75\n",
      "enter c value21\n",
      "75 b is large\n"
     ]
    }
   ],
   "source": [
    "#frist solution\n",
    "a=int(input(\"enter a value:\"))\n",
    "b=int(input(\"enter b value:\"))\n",
    "c=int(input(\"enter c value\"))\n",
    "if a>b:\n",
    "    if a>c:\n",
    "        print(a,\"a is large\")\n",
    "elif b>c:\n",
    "    if b>a:\n",
    "        print(b,\"b is large\")\n",
    "elif c>b:\n",
    "    if c>a:\n",
    "        print(c,\"c is large\")\n",
    "else:\n",
    "    print(\"a,b and c is equal\")"
   ]
  },
  {
   "cell_type": "markdown",
   "metadata": {},
   "source": [
    "Question -2: Write a python program to find the given number(N) in given range(lower bound-upper bound)"
   ]
  },
  {
   "cell_type": "code",
   "execution_count": 8,
   "metadata": {},
   "outputs": [
    {
     "name": "stdout",
     "output_type": "stream",
     "text": [
      "enter lower case:10\n",
      "enter upper case:20\n",
      "enter a number:15\n",
      "given number is exist\n"
     ]
    }
   ],
   "source": [
    "#second solution\n",
    "a=int(input(\"enter lower case:\"))\n",
    "b=int(input(\"enter upper case:\"))\n",
    "n=int(input(\"enter a number:\"))\n",
    "if n in range(a,b):\n",
    "    print(\"given number is exist\")\n",
    "else:\n",
    "    print(\"given number is not exist\")\n",
    "\n",
    "\n"
   ]
  },
  {
   "cell_type": "code",
   "execution_count": null,
   "metadata": {},
   "outputs": [],
   "source": []
  }
 ],
 "metadata": {
  "kernelspec": {
   "display_name": "Python 3",
   "language": "python",
   "name": "python3"
  },
  "language_info": {
   "codemirror_mode": {
    "name": "ipython",
    "version": 3
   },
   "file_extension": ".py",
   "mimetype": "text/x-python",
   "name": "python",
   "nbconvert_exporter": "python",
   "pygments_lexer": "ipython3",
   "version": "3.7.3"
  }
 },
 "nbformat": 4,
 "nbformat_minor": 2
}
